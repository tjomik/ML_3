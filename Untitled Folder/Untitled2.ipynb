{
 "cells": [
  {
   "cell_type": "code",
   "execution_count": 256,
   "metadata": {},
   "outputs": [],
   "source": [
    "import pandas as pd\n",
    "import numpy as np\n",
    "import matplotlib.pyplot as plt\n",
    "from sklearn.linear_model import LinearRegression\n",
    "from sklearn.model_selection import train_test_split\n",
    "from sklearn.preprocessing import MinMaxScaler\n",
    "from sklearn.metrics import mean_absolute_error\n",
    "%matplotlib inline\n",
    "import seaborn as sns"
   ]
  },
  {
   "cell_type": "code",
   "execution_count": 257,
   "metadata": {},
   "outputs": [],
   "source": [
    "def rmsle(y_true, y_pred):\n",
    "   assert len(y_true) == len(y_pred)\n",
    "   return np.square(np.log(y_pred + 1) - np.log(y_true + 1)).mean() ** 0.5"
   ]
  },
  {
   "cell_type": "code",
   "execution_count": 258,
   "metadata": {},
   "outputs": [],
   "source": [
    "df = pd.read_csv('./train.csv')"
   ]
  },
  {
   "cell_type": "code",
   "execution_count": 259,
   "metadata": {},
   "outputs": [],
   "source": [
    "categorical_columns = [c for c in df.columns if df[c].dtype.name == 'object']\n",
    "numerical_columns = [c for c in df.columns if df[c].dtype.name != 'object']\n",
    "numerical_columns.remove('SalePrice')"
   ]
  },
  {
   "cell_type": "code",
   "execution_count": 260,
   "metadata": {},
   "outputs": [],
   "source": [
    "df = df.fillna(df.median(axis=0), axis=0)"
   ]
  },
  {
   "cell_type": "code",
   "execution_count": 261,
   "metadata": {},
   "outputs": [],
   "source": [
    "for x in categorical_columns:\n",
    "    if df[x].count()<1000:\n",
    "        df=df.drop(x, axis = 1)\n",
    "        categorical_columns.remove(x)"
   ]
  },
  {
   "cell_type": "code",
   "execution_count": 262,
   "metadata": {},
   "outputs": [],
   "source": [
    "df_describe = df.describe(include=[object])\n",
    "for c in categorical_columns:\n",
    "    df[c] = df[c].fillna(df_describe[c]['top'])"
   ]
  },
  {
   "cell_type": "code",
   "execution_count": 263,
   "metadata": {},
   "outputs": [],
   "source": [
    "non_binary_columns=[]\n",
    "binary_columns=[]\n",
    "for x in categorical_columns:\n",
    "    if df[x].unique().size==2:\n",
    "        df.at[df[x] == df[x].unique()[0], x] = 0\n",
    "        df.at[df[x] == df[x].unique()[1], x] = 1\n",
    "        binary_columns.append(x)\n",
    "    else:\n",
    "        non_binary_columns.append(x)"
   ]
  },
  {
   "cell_type": "code",
   "execution_count": 264,
   "metadata": {},
   "outputs": [],
   "source": [
    "df_nobinary = pd.get_dummies(df[non_binary_columns])\n"
   ]
  },
  {
   "cell_type": "code",
   "execution_count": 265,
   "metadata": {},
   "outputs": [],
   "source": [
    "df_numerical = df[numerical_columns]\n",
    "#df_numerical = (df_numerical - df_numerical.mean()) / df_numerical.std()\n",
    "df_binary = df[binary_columns]\n",
    "SalePrice=df['SalePrice']"
   ]
  },
  {
   "cell_type": "code",
   "execution_count": 266,
   "metadata": {},
   "outputs": [],
   "source": [
    "df = pd.concat((df_numerical, df_nobinary, df_binary, SalePrice), axis=1)\n",
    "df = pd.DataFrame(df, dtype=float)"
   ]
  },
  {
   "cell_type": "code",
   "execution_count": 267,
   "metadata": {},
   "outputs": [
    {
     "name": "stdout",
     "output_type": "stream",
     "text": [
      "(1460,)\n",
      "(1460,)\n"
     ]
    }
   ],
   "source": [
    "a=['LotArea']\n",
    "x=df['LotArea']\n",
    "y=df['SalePrice']\n",
    "print(y.shape)\n",
    "print(x.shape)"
   ]
  },
  {
   "cell_type": "code",
   "execution_count": 268,
   "metadata": {},
   "outputs": [],
   "source": [
    "x_train, x_test, y_train, y_test = train_test_split(x, y, test_size = 0.3)"
   ]
  },
  {
   "cell_type": "code",
   "execution_count": 269,
   "metadata": {},
   "outputs": [],
   "source": [
    "#w=100\n",
    "#h=w*x[0]\n",
    "#w=w-(h*(x[0]-y[0]))*x[0]\n",
    "#j=(h-y[0])**2\n",
    "#print(j)\n",
    "#while j>10:\n",
    "#    w=w-(h*(x[0]-y[0]))*x[0]\n",
    "#   h=w*x[0]\n",
    "#    j=(h-y[0])**2\n",
    "#    print(j)"
   ]
  },
  {
   "cell_type": "code",
   "execution_count": 278,
   "metadata": {},
   "outputs": [
    {
     "name": "stdout",
     "output_type": "stream",
     "text": [
      "325802500.0\n",
      "0\n",
      "0.25*(18050.0*1 - 208500.0)**2 + 0.25*(18050.0*1 - 181500.0)**2\n"
     ]
    }
   ],
   "source": [
    "from sympy import diff, symbols\n",
    "J,W1,W2 = symbols('J 1 1')\n",
    "h=W1*x[0]+W2*x[1]\n",
    "J=1/4*((h-y[0])**2+(h-y[1])**2)\n",
    "while abs(eval(str(diff(J,W1,W2)))) > 0.3:\n",
    "    print(abs(eval(str(diff(J, W1, W2)))))\n",
    "    h=W1*x[0]+W2*x[1]\n",
    "    W1= symbols(str(eval(str(W1))-eval(str(diff(J, W1)))))\n",
    "    W2= symbols(str(eval(str(W2))-eval(str(diff(J, W2)))))\n",
    "    J=1/4*((h-y[0])**2+(h-y[1])**2)\n",
    "\n",
    "print(abs(eval(str(diff(J, W1, W2)))))\n",
    "print(J)"
   ]
  },
  {
   "cell_type": "code",
   "execution_count": null,
   "metadata": {},
   "outputs": [],
   "source": []
  }
 ],
 "metadata": {
  "kernelspec": {
   "display_name": "Python 3",
   "language": "python",
   "name": "python3"
  },
  "language_info": {
   "codemirror_mode": {
    "name": "ipython",
    "version": 3
   },
   "file_extension": ".py",
   "mimetype": "text/x-python",
   "name": "python",
   "nbconvert_exporter": "python",
   "pygments_lexer": "ipython3",
   "version": "3.6.4"
  }
 },
 "nbformat": 4,
 "nbformat_minor": 2
}
